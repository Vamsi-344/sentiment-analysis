version https://git-lfs.github.com/spec/v1
oid sha256:e32c70ed2a6278a739601b65b460352cf474f2974c47ea5105f5eff928a2494e
size 28736
